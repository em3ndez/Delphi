{
 "cells": [
  {
   "cell_type": "markdown",
   "id": "f5d2eb46-bb37-4d1d-a93f-eda0d307393e",
   "metadata": {},
   "source": [
    "## File paths and train,validation split"
   ]
  },
  {
   "cell_type": "code",
   "execution_count": 119,
   "id": "8319ff7b-db17-4eea-8f86-6e0fa47c4bb8",
   "metadata": {},
   "outputs": [],
   "source": [
    "import pandas as pd\n",
    "import tqdm\n",
    "import numpy as np\n",
    "\n",
    "labels_file = 'labels.csv'\n",
    "ukb_field_to_icd10_map_file = 'icd10_codes_mod.tsv'\n",
    "ubk_basket_tab_file = 'ukb_basket.tab' # file path to ukb basket download .tab format\n",
    "train_proportion = 0.8 # proportion of full data set to use for training (the rest will be used for validation)\n",
    "output_prefix = 'ukb_real'\n"
   ]
  },
  {
   "cell_type": "markdown",
   "id": "f7d089aa-56de-42ae-86b6-5320675c5729",
   "metadata": {},
   "source": [
    "## Read icd10 mapping file and defined index label link"
   ]
  },
  {
   "cell_type": "code",
   "execution_count": 120,
   "id": "b75654c9-c8ef-42f9-8569-97a97378dca5",
   "metadata": {},
   "outputs": [],
   "source": [
    "icdict ={}\n",
    "icdcodes = []\n",
    "with open(ukb_field_to_icd10_map_file,'r') as f:\n",
    "    for l in f:\n",
    "        lvals=l.strip().split()\n",
    "        icdict[lvals[0]]=lvals[5]\n",
    "        icdcodes.append(lvals[5])\n",
    "\n",
    "i = -1\n",
    "label_dict = {}\n",
    "with open(labels_file,'r') as f:\n",
    "    for l in f:\n",
    "        label_dict[l.strip().split(' ')[0]]=i\n",
    "        i += 1\n",
    "\n",
    "# hard coded sex and dob\n",
    "icdict['f.31.0.0'] = \"sex\"\n",
    "icdict['f.34.0.0'] = \"YEAR\"\n",
    "icdict['f.52.0.0'] = \"MONTH\"\n",
    "icdict['f.40000.0.0'] = \"Death\"\n",
    "\n",
    "# cancer fields\n",
    "for j in range(17):\n",
    "    icdict['f.40005.'+str(j)+'.0'] = \"cancer_date_\"+str(j)\n",
    "    icdict['f.40006.'+str(j)+'.0'] = \"cancer_type_\"+str(j)\n",
    "\n",
    "# cancer hes fields \n",
    "#for j in range(213):\n",
    "#    icdict['f.41270.0.'+str(j)] = \"hicd_\"+str(j)\n",
    "#    icdict['f.41280.0.'+str(j)] = \"hicd_date_\"+str(j)\n",
    "\n",
    "icdict['f.53.0.0'] = \"assessment_date\"\n",
    "icdict['f.21001.0.0']=\"BMI\"\n",
    "icdict['f.1239.0.0']=\"smoking\"\n",
    "icdict['f.1558.0.0']=\"alcohol\"\n",
    "\n",
    "len_icd = len(icdcodes)\n",
    "#icdcodes.extend(['Death','assessment_date']+['cancer_date_'+str(j) for j in range(17)]+['hicd_date_'+str(j) for j in range(213)])\n",
    "icdcodes.extend(['Death','assessment_date']+['cancer_date_'+str(j) for j in range(17)])\n"
   ]
  },
  {
   "cell_type": "markdown",
   "id": "09c99035-38a2-4ad5-9ae2-2768abc69d9d",
   "metadata": {},
   "source": [
    "## Read ukb basket file in chunks, select icd10 code occurance and dates, format for delphi"
   ]
  },
  {
   "cell_type": "code",
   "execution_count": null,
   "id": "b27ba642-d21b-4925-b4a6-c149eadff487",
   "metadata": {},
   "outputs": [
    {
     "name": "stderr",
     "output_type": "stream",
     "text": [
      "17it [01:39,  5.95s/it]"
     ]
    }
   ],
   "source": [
    "data_list = []\n",
    "ukb_iterator = pd.read_csv(ubk_basket_tab_file, sep='\\t',chunksize=1000,index_col=0,low_memory=False)\n",
    "for _, dd in tqdm.tqdm(enumerate(ukb_iterator)):\n",
    "    dd = dd.rename(columns=icdict)\n",
    "    dd.dropna(subset=['sex'], inplace=True)\n",
    "    dd['sex'] += 1\n",
    "    dd = dd[[col for col in dd.columns if not col.startswith('f.')]]\n",
    "    dd['dob'] =  pd.to_datetime(dd[['YEAR', 'MONTH']].assign(DAY=1))\n",
    "    dd[icdcodes] = dd[icdcodes].apply(pd.to_datetime, format=\"%Y-%m-%d\")\n",
    "    dd[icdcodes]=dd[icdcodes].sub(dd['dob'], axis=0)\n",
    "    dd[icdcodes]=dd[icdcodes].apply(lambda x : x.dt.days)\n",
    "\n",
    "    for col in icdcodes[:len_icd+1]:\n",
    "        X = dd[col].dropna().reset_index().to_numpy().astype(int)\n",
    "        data_list.append(np.hstack((X,label_dict[col]*np.ones([X.shape[0],1],X.dtype))))\n",
    "    \n",
    "    X = dd['sex'].reset_index().to_numpy().astype(int)\n",
    "    data_list.append(np.c_[X[:,0],np.zeros(X.shape[0]),X[:,1]].astype(int))\n",
    "    \n",
    "    for j in range(17):\n",
    "        dd_cancer = dd[['cancer_date_'+str(j),'cancer_type_'+str(j)]].dropna().reset_index()\n",
    "        if not dd_cancer.empty:\n",
    "            dd_cancer['cancer'] = dd_cancer['cancer_type_'+str(j)].str.slice(0,3)\n",
    "            dd_cancer['cancer_label'] = dd_cancer[\"cancer\"].map(label_dict)\n",
    "            data_list.append(dd_cancer[['f.eid','cancer_date_'+str(j),'cancer_label']].dropna().astype(int).to_numpy())\n",
    "\n",
    "    #for j in range(213):\n",
    "    #    dd_hicd = dd[['hicd_date_'+str(j),'hicd_'+str(j)]].dropna().reset_index()\n",
    "    #    if not dd_hicd.empty:\n",
    "    #        dd_hicd['hicd'] = dd_hicd['hicd_'+str(j)].str.slice(0,3)\n",
    "    #        dd_hicd['hicd_label'] = dd_hicd[\"hicd\"].map(label_dict)\n",
    "    #        data_list.append(dd_hicd[['f.eid','hicd_date_'+str(j),'hicd_label']].dropna().astype(int).to_numpy())\n",
    "        \n",
    "    dd_bmi = dd[['assessment_date','BMI']].dropna().reset_index()\n",
    "    dd_bmi['bmi_status'] = np.where(dd_bmi['BMI']>28,5,np.where(dd_bmi.BMI>22,4,3))\n",
    "    data_list.append(dd_bmi[['f.eid','assessment_date','bmi_status']].astype(int).to_numpy())\n",
    "    \n",
    "    dd_sm = dd[['assessment_date','smoking']].dropna().reset_index()\n",
    "    dd_sm = dd_sm[dd_sm['smoking']!=-3]\n",
    "    dd_sm['smoking_status'] = np.where(dd_sm['smoking']==1,8,np.where(dd_sm.smoking==2,7,6))\n",
    "    data_list.append(dd_sm[['f.eid','assessment_date','smoking_status']].astype(int).to_numpy())\n",
    "    \n",
    "    dd_al = dd[['assessment_date','alcohol']].dropna().reset_index()\n",
    "    dd_al = dd_al[dd_al['alcohol']!=-3]\n",
    "    dd_al['alcohol_status'] = np.where(dd_al['alcohol']==1,11,np.where(dd_al.alcohol < 4,10,9))\n",
    "    data_list.append(dd_al[['f.eid','assessment_date','alcohol_status']].astype(int).to_numpy())\n",
    "    \n",
    "        "
   ]
  },
  {
   "cell_type": "markdown",
   "id": "7a156579-7132-4f26-899f-7ef0506894bf",
   "metadata": {},
   "source": [
    "## reformat, split train and val and output to delphi format"
   ]
  },
  {
   "cell_type": "code",
   "execution_count": null,
   "id": "69fa6d58-2861-4e5e-a480-2d6cb366ca86",
   "metadata": {},
   "outputs": [],
   "source": [
    "data= np.vstack(data_list)\n",
    "data= data[np.argsort(data[:,0] + data[:,1].astype('float')/100000 + (data[:,2]==data[:,2].max()))]\n",
    "data = data[data[:,1]>=0]\n",
    "data = pd.DataFrame(data).drop_duplicates([0,2]).values\n",
    "data = data.astype(np.uint32)\n",
    "data.tofile(output_prefix + '.bin')\n",
    "ids = list(set(data[:,0]))\n",
    "ids = ids.sort()\n",
    "train_val_split = data[:,0] <= ids[int(len(ids)*train_proportion)]\n",
    "data[train_val_split].tofile(output_prefix + '_train.bin')\n",
    "data[~train_val_split].tofile(output_prefix + '_val.bin')\n"
   ]
  }
 ],
 "metadata": {
  "kernelspec": {
   "display_name": "Python 3 (ipykernel)",
   "language": "python",
   "name": "python3"
  },
  "language_info": {
   "codemirror_mode": {
    "name": "ipython",
    "version": 3
   },
   "file_extension": ".py",
   "mimetype": "text/x-python",
   "name": "python",
   "nbconvert_exporter": "python",
   "pygments_lexer": "ipython3",
   "version": "3.12.4"
  }
 },
 "nbformat": 4,
 "nbformat_minor": 5
}
